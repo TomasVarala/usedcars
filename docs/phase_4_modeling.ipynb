{
 "cells": [
  {
   "cell_type": "markdown",
   "id": "20aa39bf",
   "metadata": {},
   "source": [
    "# Phase 4: Modeling – Craigslist Cars & Trucks Dataset"
   ]
  },
  {
   "cell_type": "markdown",
   "id": "6115e133",
   "metadata": {},
   "source": [
    "## 1. Load and Prepare Data"
   ]
  },
  {
   "cell_type": "code",
   "execution_count": null,
   "id": "e97b2640",
   "metadata": {},
   "outputs": [],
   "source": [
    "\n",
    "import pandas as pd\n",
    "from sklearn.model_selection import train_test_split\n",
    "\n",
    "# Load dataset (replace with your actual file path if needed)\n",
    "df = pd.read_csv(\"vehicles_cleaned.csv\")\n",
    "\n",
    "# Features and targets\n",
    "features = ['odometer_scaled', 'car_age_scaled']\n",
    "X = df[features]\n",
    "y = df['price']\n",
    "y_class = df['price_category']\n",
    "\n",
    "# Split for regression and classification\n",
    "X_train_reg, X_test_reg, y_train_reg, y_test_reg = train_test_split(X, y, test_size=0.2, random_state=42)\n",
    "X_train_clf, X_test_clf, y_train_clf, y_test_clf = train_test_split(X, y_class, test_size=0.2, random_state=42)\n"
   ]
  },
  {
   "cell_type": "markdown",
   "id": "6307d319",
   "metadata": {},
   "source": [
    "## 2. Regression Modeling (Predict Price)"
   ]
  },
  {
   "cell_type": "code",
   "execution_count": null,
   "id": "649b5d4e",
   "metadata": {},
   "outputs": [],
   "source": [
    "\n",
    "from sklearn.linear_model import LinearRegression\n",
    "from sklearn.ensemble import RandomForestRegressor\n",
    "from sklearn.metrics import mean_squared_error, mean_absolute_error, r2_score\n",
    "\n",
    "# Linear Regression\n",
    "lr = LinearRegression()\n",
    "lr.fit(X_train_reg, y_train_reg)\n",
    "y_pred_lr = lr.predict(X_test_reg)\n",
    "\n",
    "# Random Forest\n",
    "rf = RandomForestRegressor(n_estimators=100, random_state=42)\n",
    "rf.fit(X_train_reg, y_train_reg)\n",
    "y_pred_rf = rf.predict(X_test_reg)\n",
    "\n",
    "# Evaluation\n",
    "def evaluate_model(y_true, y_pred, name):\n",
    "    print(f\"Model: {name}\")\n",
    "    print(\"MAE:\", mean_absolute_error(y_true, y_pred))\n",
    "    print(\"RMSE:\", mean_squared_error(y_true, y_pred, squared=False))\n",
    "    print(\"R2:\", r2_score(y_true, y_pred))\n",
    "    print(\"-\" * 30)\n",
    "\n",
    "evaluate_model(y_test_reg, y_pred_lr, \"Linear Regression\")\n",
    "evaluate_model(y_test_reg, y_pred_rf, \"Random Forest\")\n"
   ]
  },
  {
   "cell_type": "markdown",
   "id": "c5f8aabe",
   "metadata": {},
   "source": [
    "## 3. Classification Modeling (Cheap vs Expensive)"
   ]
  },
  {
   "cell_type": "code",
   "execution_count": null,
   "id": "64aa071e",
   "metadata": {},
   "outputs": [],
   "source": [
    "\n",
    "from sklearn.ensemble import RandomForestClassifier\n",
    "from sklearn.linear_model import LogisticRegression\n",
    "from sklearn.metrics import classification_report, confusion_matrix\n",
    "\n",
    "# Logistic Regression\n",
    "clf_lr = LogisticRegression()\n",
    "clf_lr.fit(X_train_clf, y_train_clf)\n",
    "y_pred_clf_lr = clf_lr.predict(X_test_clf)\n",
    "\n",
    "# Random Forest Classifier\n",
    "clf_rf = RandomForestClassifier(n_estimators=100, random_state=42)\n",
    "clf_rf.fit(X_train_clf, y_train_clf)\n",
    "y_pred_clf_rf = clf_rf.predict(X_test_clf)\n",
    "\n",
    "# Evaluation\n",
    "print(\"Logistic Regression Report:\")\n",
    "print(classification_report(y_test_clf, y_pred_clf_lr))\n",
    "print(confusion_matrix(y_test_clf, y_pred_clf_lr))\n",
    "\n",
    "print(\"\\nRandom Forest Classifier Report:\")\n",
    "print(classification_report(y_test_clf, y_pred_clf_rf))\n",
    "print(confusion_matrix(y_test_clf, y_pred_clf_rf))\n"
   ]
  },
  {
   "cell_type": "markdown",
   "id": "3dad1e5b",
   "metadata": {},
   "source": [
    "## 4. Visualize Regression Results"
   ]
  },
  {
   "cell_type": "code",
   "execution_count": null,
   "id": "10c0a621",
   "metadata": {},
   "outputs": [],
   "source": [
    "\n",
    "import matplotlib.pyplot as plt\n",
    "import seaborn as sns\n",
    "\n",
    "# Compare actual vs predicted for Random Forest\n",
    "plt.figure(figsize=(8, 6))\n",
    "sns.scatterplot(x=y_test_reg, y=y_pred_rf)\n",
    "plt.xlabel(\"Actual Price\")\n",
    "plt.ylabel(\"Predicted Price\")\n",
    "plt.title(\"Random Forest: Actual vs Predicted Price\")\n",
    "plt.plot([y_test_reg.min(), y_test_reg.max()], [y_test_reg.min(), y_test_reg.max()], '--r')\n",
    "plt.show()\n"
   ]
  },
  {
   "cell_type": "markdown",
   "id": "111b734d",
   "metadata": {},
   "source": [
    "## 5. Hyperparameter Tuning Example"
   ]
  },
  {
   "cell_type": "code",
   "execution_count": null,
   "id": "4ad85f46",
   "metadata": {},
   "outputs": [],
   "source": [
    "\n",
    "from sklearn.model_selection import GridSearchCV\n",
    "\n",
    "# Grid search for Random Forest Regressor\n",
    "param_grid = {\n",
    "    'n_estimators': [50, 100],\n",
    "    'max_depth': [None, 10, 20]\n",
    "}\n",
    "\n",
    "grid_rf = GridSearchCV(RandomForestRegressor(random_state=42), param_grid, cv=3, scoring='neg_mean_squared_error')\n",
    "grid_rf.fit(X_train_reg, y_train_reg)\n",
    "\n",
    "print(\"Best Parameters:\", grid_rf.best_params_)\n",
    "\n",
    "# Evaluate the tuned model\n",
    "best_rf = grid_rf.best_estimator_\n",
    "y_pred_best_rf = best_rf.predict(X_test_reg)\n",
    "evaluate_model(y_test_reg, y_pred_best_rf, \"Tuned Random Forest\")\n"
   ]
  }
 ],
 "metadata": {},
 "nbformat": 4,
 "nbformat_minor": 5
}
